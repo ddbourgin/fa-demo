{
 "cells": [
  {
   "cell_type": "code",
   "execution_count": null,
   "metadata": {
    "collapsed": true
   },
   "outputs": [],
   "source": [
    "# David Bourgin\n",
    "# QuACK Workshop, 11/2/17\n",
    "# Dimensionality Reduction and Factor Analysis"
   ]
  },
  {
   "cell_type": "code",
   "execution_count": null,
   "metadata": {
    "collapsed": true
   },
   "outputs": [],
   "source": [
    "# Install and load a few useful packages\n",
    "# corrplot:    for making a pretty heatmap of the sample correlation matrix\n",
    "# psych:       for the `fa` and `vss` helper functions\n",
    "# GPArotation: for the oblimin rotation functionality\n",
    "\n",
    "installed <- installed.packages()\n",
    "if (!\"corrplot\" %in% installed) {install.packages(\"corrplot\")}\n",
    "if (!\"psych\" %in% installed) {install.packages(\"psych\")}\n",
    "if (!\"GPArotation\" %in% installed) {install.packages(\"GPArotation\")}\n",
    "\n",
    "library(\"corrplot\")\n",
    "library(\"psych\")\n",
    "library(\"GPArotation\")\n",
    "\n",
    "# seed the rng for reproducibility\n",
    "set.seed(94608)"
   ]
  },
  {
   "cell_type": "markdown",
   "metadata": {},
   "source": [
    "# Exploratory Factor Analysis in R\n",
    "\n",
    "In this notebook we analyze some personality data collected by Bertram Malle, hosted on Stanford's excellent [Psych253 data repository](https://web.stanford.edu/class/psych253/data/). The data consists of participants’ self-ratings on 32 personality traits. \n",
    "\n",
    "In exploratory factor analysis (EFA) our goal is to find a small(er) set of latent dimensions (factors) that account for as much of the co-variation in the raw data as possible. In contrast to a method like PCA, FA explicitly assumes a particular generative model for the data. For more, see the [FA theory notebook](./Factor Analysis Theory.ipynb)."
   ]
  },
  {
   "cell_type": "markdown",
   "metadata": {},
   "source": [
    "<div class=\"alert alert-block alert-warning\">\n",
    "**N.B.** This notebook assumes you are familiar with the general factor analysis model. To review its derivation and assumptions, see its exposition in the accompanying [FA theory notebook](./Factor Analysis Theory.ipynb).\n",
    "</div>\n"
   ]
  },
  {
   "cell_type": "code",
   "execution_count": null,
   "metadata": {
    "collapsed": true
   },
   "outputs": [],
   "source": [
    "# download the Stanford personality dataset\n",
    "d = read.table(\"https://www.stanford.edu/class/psych253/data/personality0.txt\")\n",
    "head(d)"
   ]
  },
  {
   "cell_type": "code",
   "execution_count": null,
   "metadata": {
    "collapsed": true
   },
   "outputs": [],
   "source": [
    "# plot correlations between dimensions\n",
    "corrplot(cor(d), order = \"hclust\", tl.col='black', tl.cex=.75)"
   ]
  },
  {
   "cell_type": "code",
   "execution_count": null,
   "metadata": {
    "collapsed": true
   },
   "outputs": [],
   "source": [
    "# standardize the data by subtracting column means (centering) \n",
    "# and dividing by the standard deviation (scaling)\n",
    "d_stan = as.data.frame(scale(d))"
   ]
  },
  {
   "cell_type": "code",
   "execution_count": null,
   "metadata": {
    "collapsed": true
   },
   "outputs": [],
   "source": [
    "# A scree plot for deciding how many factors to use\n",
    "R = cor(d_stan) # sample correlation matrix\n",
    "evs = eigen(R)$values # compute eigenvalues\n",
    "options(repr.plot.width=6, repr.plot.height=4)\n",
    "plot(evs, type='b', xlab='Component', ylab='Eigenvalue', main=\"Scree plot\")"
   ]
  },
  {
   "cell_type": "code",
   "execution_count": null,
   "metadata": {
    "collapsed": true
   },
   "outputs": [],
   "source": [
    "# perform a VSS analysis to decide the number of factors to use \n",
    "\n",
    "# note the diagonal=FALSE argument; this is because we are concerned with factors \n",
    "# which account for the maximum COvariance in the data. Play around with different \n",
    "# rotations here\n",
    "options(repr.plot.width=5, repr.plot.height=6)\n",
    "vss = VSS(d_stan, n=8, rotate=\"oblimin\", diagonal=FALSE)"
   ]
  },
  {
   "cell_type": "code",
   "execution_count": null,
   "metadata": {
    "collapsed": true
   },
   "outputs": [],
   "source": [
    "# Compute the unrotated factor loadings using 10 factors\n",
    "res1b = fa(d_stan, nfactors=5, rotate=\"none\")"
   ]
  },
  {
   "cell_type": "code",
   "execution_count": null,
   "metadata": {
    "collapsed": true
   },
   "outputs": [],
   "source": [
    "# Compute the proportion of overall covariance accounted for by first factor\n",
    "evs[1] / 32"
   ]
  },
  {
   "cell_type": "markdown",
   "metadata": {},
   "source": [
    "The **communality** of a variable reflects the extent to which the variability across subjects in a particular dimension is ‘explained’ by the set of factors extracted in the factor analysis. \n",
    "\n",
    "**Uniqueness** is just 1-communality, and measures (surprise!) the variance that is ‘unique’ to the variable / not shared with other variables."
   ]
  },
  {
   "cell_type": "code",
   "execution_count": null,
   "metadata": {
    "collapsed": true
   },
   "outputs": [],
   "source": [
    "res1b$uniquenesses"
   ]
  },
  {
   "cell_type": "code",
   "execution_count": null,
   "metadata": {
    "collapsed": true
   },
   "outputs": [],
   "source": [
    "# Calculate uniqueness by hand for first dimension\n",
    "loadings_distant = res1b$loadings[1,]\n",
    "communality_distant = sum(loadings_distant^2)\n",
    "communality_distant"
   ]
  },
  {
   "cell_type": "code",
   "execution_count": null,
   "metadata": {
    "collapsed": true
   },
   "outputs": [],
   "source": [
    "uniqueness_distant = 1 - communality_distant\n",
    "uniqueness_distant"
   ]
  },
  {
   "cell_type": "code",
   "execution_count": null,
   "metadata": {
    "collapsed": true
   },
   "outputs": [],
   "source": [
    "# Plot loadings for factors 1 and 2 under different rotations\n",
    "faRotations <- function(x, k) {\n",
    "    options(repr.plot.width=10, repr.plot.height=4)\n",
    "    par(mfrow=c(1,3), pty='s')\n",
    "    \n",
    "    # no rotation\n",
    "    res1c = fa(x, nfactors=k, rotate=\"none\")\n",
    "    load = res1c$loadings[, 1:2]\n",
    "    plot(load, type=\"n\", xlab=\"Factor 1\", ylab=\"Factor 2\", main=\"Partial loading plot (Unrotated)\") \n",
    "    text(load, labels=names(x), cex=.7)\n",
    "\n",
    "    # varimax rotation\n",
    "    res1c = fa(x, nfactors=k, rotate=\"varimax\")\n",
    "    load = res1c$loadings[, 1:2]\n",
    "    plot(load, type=\"n\", xlab=\"Factor 1\", ylab=\"Factor 2\", main=\"Partial loading plot (Varimax rotation)\") \n",
    "    text(load, labels=names(x), cex=.7)\n",
    "\n",
    "    # oblimin rotation\n",
    "    res1c = fa(x, nfactors=k, fm='ml', rotate=\"oblimin\")\n",
    "    load = res1c$loadings[, 1:2]\n",
    "    plot(load, type=\"n\", xlab=\"Factor 1\", ylab=\"Factor 2\", main=\"Partial loading plot (Oblimin rotation)\") \n",
    "    text(load, labels=names(x), cex=.7)\n",
    "}\n",
    "\n",
    "faRotations(d_stan, 5)"
   ]
  }
 ],
 "metadata": {
  "kernelspec": {
   "display_name": "R",
   "language": "R",
   "name": "ir"
  },
  "language_info": {
   "codemirror_mode": "r",
   "file_extension": ".r",
   "mimetype": "text/x-r-source",
   "name": "R",
   "pygments_lexer": "r",
   "version": "3.3.2"
  }
 },
 "nbformat": 4,
 "nbformat_minor": 1
}
