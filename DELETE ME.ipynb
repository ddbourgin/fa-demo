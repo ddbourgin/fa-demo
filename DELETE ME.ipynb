{
 "cells": [
  {
   "cell_type": "markdown",
   "metadata": {},
   "source": [
    "## Linear Algebra Background Concepts\n",
    "\n",
    "### Vector (Linear) Spaces and Linear Subspaces\n",
    "Given a collection of vectors in $\\mathbb{R}^n$, the **span** of the set is the collection of all points which can be reached using just linear combinations of the vectors.\n",
    "\n",
    "<img src=\"images2/vector_arithmetic.png\" align=\"left\" style=\"height: 200px;\"/>\n",
    "<img src=\"images2/span3.png\" align=\"left\" style=\"height: 400px;\"/>\n",
    "\n",
    "### Projections & Rotations\n",
    "A matrix can be used to map a vector $\\mathbf{x}$ into a new vector $\\mathbf{y}$ via the relation $\\mathbf{y} = \\mathbf{Mx}$. The transformation is linear.\n",
    "\n",
    "One particularly useful kind of transformation is one which _projects_ a vector onto another vector. We can achieve a projection using matrix multiplication, as this transformation is linear.\n",
    "\n",
    "**Big Idea**: _Any_ linear function can be expressed as a matrix.\n",
    "\n",
    "<img src=\"images2/rotation.png\" align=\"left\" style=\"height: 200px;\"/>\n",
    "<img src=\"images2/2D_to_1D_Projection.jpg\" align=\"left\" style=\"height: 200px;\"/>\n",
    "    \n",
    "### Basis Functions (Vectors)\n",
    "A **basis set** is the smallest collection of vectors in the vector space that are sufficient to produce all other points in the span.\n",
    "\n",
    "For any spanning set, there exist an infinite number of basis sets. While formally equivalent, some basis sets are more useful for particular problems. \n",
    "\n",
    "A common technique in linear algebra is the **change of basis operation**, which translates the representation of a set of points in one basis to a representation in another basis. PCA is a prominent example of this technique.\n",
    "\n",
    "<img src=\"images2/basis1.png\" align=\"left\" style=\"height: 200px;\"/>\n",
    "<img src=\"images2/pcabasis.png\" align=\"left\" style=\"height: 200px;\"/>"
   ]
  },
  {
   "cell_type": "code",
   "execution_count": null,
   "metadata": {
    "collapsed": true
   },
   "outputs": [],
   "source": []
  }
 ],
 "metadata": {
  "kernelspec": {
   "display_name": "R",
   "language": "R",
   "name": "ir"
  },
  "language_info": {
   "codemirror_mode": "r",
   "file_extension": ".r",
   "mimetype": "text/x-r-source",
   "name": "R",
   "pygments_lexer": "r",
   "version": "3.3.2"
  }
 },
 "nbformat": 4,
 "nbformat_minor": 2
}
